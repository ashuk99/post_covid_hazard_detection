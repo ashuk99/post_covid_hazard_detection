{
 "cells": [
  {
   "cell_type": "code",
   "execution_count": 129,
   "metadata": {
    "id": "DS7EfbtNAltv"
   },
   "outputs": [],
   "source": [
    "#POST-COVID-19 HAZARD DETECTION USING MODERN SENSORS & ML"
   ]
  },
  {
   "cell_type": "code",
   "execution_count": 130,
   "metadata": {
    "colab": {
     "base_uri": "https://localhost:8080/"
    },
    "id": "7vw2FMR6HthI",
    "outputId": "1ce4db3e-3ad3-4e7d-caac-86df8ed9c461"
   },
   "outputs": [],
   "source": [
    "from pandas import DataFrame \n",
    "from random import randint\n",
    "import random\n",
    "lst_tmp = []\n",
    "lst_oxy = []\n",
    "lst_hrt = [] \n",
    " \n",
    "\n",
    "for i in range(0, 1000): \n",
    "    \n",
    "    tmp = randint(96,105)\n",
    "    oxy = randint(85,99)\n",
    "    hrt = randint(60,130)\n",
    "   \n",
    "  \n",
    "    lst_tmp.append(tmp)\n",
    "    lst_oxy.append(oxy)\n",
    "    lst_hrt.append(hrt) \n",
    "    \n",
    "random.shuffle(lst_tmp)\n",
    "random.shuffle(lst_oxy)\n",
    "random.shuffle(lst_hrt)      "
   ]
  },
  {
   "cell_type": "code",
   "execution_count": 131,
   "metadata": {
    "colab": {
     "base_uri": "https://localhost:8080/"
    },
    "id": "5ZjSBvghP2z2",
    "outputId": "5e07c809-2cde-46cc-93c2-d9b34d33b112"
   },
   "outputs": [
    {
     "data": {
      "text/plain": [
       "array([[102.,  99., 100., ...,  99.,  96.,  99.],\n",
       "       [ 89.,  95.,  99., ...,  88.,  89.,  94.],\n",
       "       [ 81.,  69., 101., ...,  75., 108.,  83.]])"
      ]
     },
     "execution_count": 131,
     "metadata": {},
     "output_type": "execute_result"
    }
   ],
   "source": [
    " import numpy\n",
    "\n",
    "x = lst_tmp\n",
    "y = lst_oxy\n",
    "z = lst_hrt\n",
    "A = numpy.array((x, y, z), dtype=float)\n",
    "A"
   ]
  },
  {
   "cell_type": "code",
   "execution_count": 132,
   "metadata": {
    "colab": {
     "base_uri": "https://localhost:8080/"
    },
    "id": "uHeVFFafRK8f",
    "outputId": "9bbcef27-e9b2-4358-ced9-e18c453aa138"
   },
   "outputs": [
    {
     "name": "stdout",
     "output_type": "stream",
     "text": [
      "[[102.  89.  81.]\n",
      " [ 99.  95.  69.]\n",
      " [100.  99. 101.]\n",
      " ...\n",
      " [ 99.  88.  75.]\n",
      " [ 96.  89. 108.]\n",
      " [ 99.  94.  83.]]\n"
     ]
    }
   ],
   "source": [
    "AT= A.T\n",
    "print(AT)"
   ]
  },
  {
   "cell_type": "code",
   "execution_count": 133,
   "metadata": {
    "colab": {
     "base_uri": "https://localhost:8080/",
     "height": 418
    },
    "id": "bZk55I4PSCXI",
    "outputId": "a6819bb7-19eb-4b5a-8566-3462799c769a"
   },
   "outputs": [
    {
     "data": {
      "text/html": [
       "<div>\n",
       "<style scoped>\n",
       "    .dataframe tbody tr th:only-of-type {\n",
       "        vertical-align: middle;\n",
       "    }\n",
       "\n",
       "    .dataframe tbody tr th {\n",
       "        vertical-align: top;\n",
       "    }\n",
       "\n",
       "    .dataframe thead th {\n",
       "        text-align: right;\n",
       "    }\n",
       "</style>\n",
       "<table border=\"1\" class=\"dataframe\">\n",
       "  <thead>\n",
       "    <tr style=\"text-align: right;\">\n",
       "      <th></th>\n",
       "      <th>temp</th>\n",
       "      <th>oxygen</th>\n",
       "      <th>heart beat</th>\n",
       "    </tr>\n",
       "  </thead>\n",
       "  <tbody>\n",
       "    <tr>\n",
       "      <th>0</th>\n",
       "      <td>102.0</td>\n",
       "      <td>89.0</td>\n",
       "      <td>81.0</td>\n",
       "    </tr>\n",
       "    <tr>\n",
       "      <th>1</th>\n",
       "      <td>99.0</td>\n",
       "      <td>95.0</td>\n",
       "      <td>69.0</td>\n",
       "    </tr>\n",
       "    <tr>\n",
       "      <th>2</th>\n",
       "      <td>100.0</td>\n",
       "      <td>99.0</td>\n",
       "      <td>101.0</td>\n",
       "    </tr>\n",
       "    <tr>\n",
       "      <th>3</th>\n",
       "      <td>102.0</td>\n",
       "      <td>98.0</td>\n",
       "      <td>70.0</td>\n",
       "    </tr>\n",
       "    <tr>\n",
       "      <th>4</th>\n",
       "      <td>98.0</td>\n",
       "      <td>89.0</td>\n",
       "      <td>108.0</td>\n",
       "    </tr>\n",
       "    <tr>\n",
       "      <th>...</th>\n",
       "      <td>...</td>\n",
       "      <td>...</td>\n",
       "      <td>...</td>\n",
       "    </tr>\n",
       "    <tr>\n",
       "      <th>995</th>\n",
       "      <td>96.0</td>\n",
       "      <td>97.0</td>\n",
       "      <td>111.0</td>\n",
       "    </tr>\n",
       "    <tr>\n",
       "      <th>996</th>\n",
       "      <td>105.0</td>\n",
       "      <td>91.0</td>\n",
       "      <td>99.0</td>\n",
       "    </tr>\n",
       "    <tr>\n",
       "      <th>997</th>\n",
       "      <td>99.0</td>\n",
       "      <td>88.0</td>\n",
       "      <td>75.0</td>\n",
       "    </tr>\n",
       "    <tr>\n",
       "      <th>998</th>\n",
       "      <td>96.0</td>\n",
       "      <td>89.0</td>\n",
       "      <td>108.0</td>\n",
       "    </tr>\n",
       "    <tr>\n",
       "      <th>999</th>\n",
       "      <td>99.0</td>\n",
       "      <td>94.0</td>\n",
       "      <td>83.0</td>\n",
       "    </tr>\n",
       "  </tbody>\n",
       "</table>\n",
       "<p>1000 rows × 3 columns</p>\n",
       "</div>"
      ],
      "text/plain": [
       "      temp  oxygen  heart beat\n",
       "0    102.0    89.0        81.0\n",
       "1     99.0    95.0        69.0\n",
       "2    100.0    99.0       101.0\n",
       "3    102.0    98.0        70.0\n",
       "4     98.0    89.0       108.0\n",
       "..     ...     ...         ...\n",
       "995   96.0    97.0       111.0\n",
       "996  105.0    91.0        99.0\n",
       "997   99.0    88.0        75.0\n",
       "998   96.0    89.0       108.0\n",
       "999   99.0    94.0        83.0\n",
       "\n",
       "[1000 rows x 3 columns]"
      ]
     },
     "execution_count": 133,
     "metadata": {},
     "output_type": "execute_result"
    }
   ],
   "source": [
    "df = DataFrame (AT,columns = ['temp','oxygen','heart beat'])\n",
    "df"
   ]
  },
  {
   "cell_type": "code",
   "execution_count": 134,
   "metadata": {
    "id": "b6OiDCVmGFbA"
   },
   "outputs": [],
   "source": [
    "i=0\n",
    "j=0\n",
    "k=0\n",
    "counter=0 \n",
    "output=[]\n",
    "while counter < 1000:\n",
    "  if lst_tmp[i]>int(99):\n",
    "    if lst_oxy[j]<int(90):\n",
    "      output.append(\"possible heart risk\")  \n",
    "      #break\n",
    "    else:\n",
    "      if lst_hrt[k]>int(90):\n",
    "        output.append(\"no possible risk\")  \n",
    "        #break\n",
    "      else:\n",
    "        output.append(\"no possible risk\")  \n",
    "        #break\n",
    "  else:\n",
    "    if lst_oxy[j]<int(90):\n",
    "      if lst_hrt[k]>int(90):\n",
    "        output.append(\"possible risk\")  \n",
    "        #break\n",
    "      else:\n",
    "        output.append(\"mild symptoms to heart risk\") \n",
    "        #break\n",
    "    else:\n",
    "      if lst_hrt[k]>int(90):\n",
    "        output.append(\"no possible risk\")\n",
    "        #break\n",
    "      else:\n",
    "        output.append(\"no possible risk\") \n",
    "        #break \n",
    "  i+=1\n",
    "  j+=1\n",
    "  k+=1 \n",
    "  counter+=1"
   ]
  },
  {
   "cell_type": "code",
   "execution_count": 135,
   "metadata": {
    "colab": {
     "base_uri": "https://localhost:8080/"
    },
    "id": "7H5iB7YRyv26",
    "outputId": "e34258c9-ae70-450a-ed00-7f2f5749195f"
   },
   "outputs": [
    {
     "name": "stdout",
     "output_type": "stream",
     "text": [
      "['possible heart risk', 'no possible risk', 'no possible risk', 'no possible risk', 'possible risk', 'no possible risk', 'no possible risk', 'no possible risk', 'possible heart risk', 'no possible risk', 'no possible risk', 'no possible risk', 'possible heart risk', 'no possible risk', 'no possible risk', 'no possible risk', 'no possible risk', 'no possible risk', 'no possible risk', 'no possible risk', 'no possible risk', 'no possible risk', 'no possible risk', 'no possible risk', 'no possible risk', 'possible risk', 'no possible risk', 'no possible risk', 'no possible risk', 'possible heart risk', 'possible heart risk', 'possible heart risk', 'no possible risk', 'no possible risk', 'possible heart risk', 'possible risk', 'no possible risk', 'possible risk', 'possible heart risk', 'possible heart risk', 'possible risk', 'possible risk', 'possible heart risk', 'no possible risk', 'no possible risk', 'no possible risk', 'no possible risk', 'no possible risk', 'no possible risk', 'no possible risk', 'possible heart risk', 'no possible risk', 'no possible risk', 'no possible risk', 'possible heart risk', 'possible heart risk', 'possible heart risk', 'no possible risk', 'no possible risk', 'possible heart risk', 'possible heart risk', 'no possible risk', 'mild symptoms to heart risk', 'no possible risk', 'possible heart risk', 'no possible risk', 'no possible risk', 'possible heart risk', 'no possible risk', 'no possible risk', 'no possible risk', 'no possible risk', 'no possible risk', 'no possible risk', 'no possible risk', 'mild symptoms to heart risk', 'possible risk', 'no possible risk', 'no possible risk', 'no possible risk', 'possible heart risk', 'possible heart risk', 'possible risk', 'no possible risk', 'no possible risk', 'possible heart risk', 'no possible risk', 'possible heart risk', 'possible heart risk', 'no possible risk', 'no possible risk', 'no possible risk', 'no possible risk', 'no possible risk', 'no possible risk', 'no possible risk', 'possible heart risk', 'no possible risk', 'possible heart risk', 'no possible risk', 'no possible risk', 'no possible risk', 'no possible risk', 'possible risk', 'possible heart risk', 'no possible risk', 'possible risk', 'possible risk', 'no possible risk', 'no possible risk', 'no possible risk', 'no possible risk', 'no possible risk', 'no possible risk', 'no possible risk', 'no possible risk', 'possible heart risk', 'no possible risk', 'no possible risk', 'possible heart risk', 'no possible risk', 'possible heart risk', 'no possible risk', 'possible risk', 'possible heart risk', 'no possible risk', 'possible heart risk', 'possible heart risk', 'no possible risk', 'possible heart risk', 'no possible risk', 'no possible risk', 'no possible risk', 'possible heart risk', 'no possible risk', 'mild symptoms to heart risk', 'possible heart risk', 'no possible risk', 'possible heart risk', 'possible heart risk', 'mild symptoms to heart risk', 'possible heart risk', 'possible heart risk', 'no possible risk', 'no possible risk', 'possible heart risk', 'possible risk', 'no possible risk', 'possible heart risk', 'no possible risk', 'no possible risk', 'no possible risk', 'possible heart risk', 'no possible risk', 'no possible risk', 'no possible risk', 'no possible risk', 'no possible risk', 'possible risk', 'possible heart risk', 'no possible risk', 'no possible risk', 'no possible risk', 'no possible risk', 'possible risk', 'no possible risk', 'no possible risk', 'possible heart risk', 'no possible risk', 'possible heart risk', 'no possible risk', 'no possible risk', 'mild symptoms to heart risk', 'possible heart risk', 'possible risk', 'no possible risk', 'no possible risk', 'no possible risk', 'no possible risk', 'possible heart risk', 'possible heart risk', 'no possible risk', 'possible risk', 'no possible risk', 'possible heart risk', 'no possible risk', 'no possible risk', 'no possible risk', 'no possible risk', 'possible heart risk', 'no possible risk', 'possible risk', 'no possible risk', 'no possible risk', 'no possible risk', 'no possible risk', 'possible heart risk', 'no possible risk', 'no possible risk', 'possible heart risk', 'possible risk', 'possible heart risk', 'no possible risk', 'no possible risk', 'no possible risk', 'possible risk', 'no possible risk', 'no possible risk', 'no possible risk', 'possible heart risk', 'possible heart risk', 'no possible risk', 'no possible risk', 'no possible risk', 'no possible risk', 'possible heart risk', 'no possible risk', 'no possible risk', 'possible heart risk', 'possible heart risk', 'no possible risk', 'possible risk', 'no possible risk', 'possible heart risk', 'no possible risk', 'no possible risk', 'no possible risk', 'possible heart risk', 'possible risk', 'possible heart risk', 'no possible risk', 'no possible risk', 'possible heart risk', 'possible heart risk', 'no possible risk', 'no possible risk', 'no possible risk', 'no possible risk', 'possible heart risk', 'no possible risk', 'mild symptoms to heart risk', 'no possible risk', 'no possible risk', 'possible heart risk', 'no possible risk', 'no possible risk', 'no possible risk', 'mild symptoms to heart risk', 'no possible risk', 'no possible risk', 'possible heart risk', 'no possible risk', 'possible heart risk', 'no possible risk', 'possible heart risk', 'no possible risk', 'possible risk', 'possible heart risk', 'no possible risk', 'mild symptoms to heart risk', 'no possible risk', 'no possible risk', 'no possible risk', 'no possible risk', 'no possible risk', 'possible heart risk', 'no possible risk', 'possible heart risk', 'possible heart risk', 'no possible risk', 'no possible risk', 'possible heart risk', 'no possible risk', 'no possible risk', 'no possible risk', 'possible risk', 'no possible risk', 'no possible risk', 'no possible risk', 'no possible risk', 'possible heart risk', 'no possible risk', 'no possible risk', 'possible heart risk', 'no possible risk', 'no possible risk', 'no possible risk', 'no possible risk', 'possible risk', 'possible heart risk', 'no possible risk', 'no possible risk', 'possible heart risk', 'no possible risk', 'no possible risk', 'possible risk', 'possible heart risk', 'possible risk', 'possible risk', 'no possible risk', 'no possible risk', 'possible heart risk', 'possible heart risk', 'no possible risk', 'no possible risk', 'possible heart risk', 'possible heart risk', 'possible heart risk', 'no possible risk', 'mild symptoms to heart risk', 'no possible risk', 'no possible risk', 'no possible risk', 'no possible risk', 'no possible risk', 'no possible risk', 'possible risk', 'no possible risk', 'no possible risk', 'possible heart risk', 'mild symptoms to heart risk', 'no possible risk', 'mild symptoms to heart risk', 'possible heart risk', 'no possible risk', 'possible risk', 'no possible risk', 'no possible risk', 'possible heart risk', 'no possible risk', 'possible heart risk', 'possible heart risk', 'no possible risk', 'no possible risk', 'no possible risk', 'no possible risk', 'possible heart risk', 'no possible risk', 'possible heart risk', 'no possible risk', 'possible risk', 'no possible risk', 'possible heart risk', 'possible heart risk', 'no possible risk', 'no possible risk', 'possible heart risk', 'no possible risk', 'possible heart risk', 'no possible risk', 'no possible risk', 'no possible risk', 'possible heart risk', 'possible heart risk', 'no possible risk', 'possible risk', 'no possible risk', 'possible heart risk', 'no possible risk', 'no possible risk', 'no possible risk', 'possible heart risk', 'no possible risk', 'no possible risk', 'no possible risk', 'no possible risk', 'no possible risk', 'no possible risk', 'no possible risk', 'possible heart risk', 'no possible risk', 'no possible risk', 'mild symptoms to heart risk', 'no possible risk', 'no possible risk', 'no possible risk', 'no possible risk', 'no possible risk', 'possible risk', 'no possible risk', 'no possible risk', 'no possible risk', 'no possible risk', 'possible heart risk', 'no possible risk', 'no possible risk', 'possible heart risk', 'no possible risk', 'no possible risk', 'no possible risk', 'no possible risk', 'no possible risk', 'no possible risk', 'no possible risk', 'possible risk', 'no possible risk', 'possible risk', 'no possible risk', 'no possible risk', 'no possible risk', 'no possible risk', 'possible heart risk', 'no possible risk', 'no possible risk', 'no possible risk', 'possible risk', 'no possible risk', 'no possible risk', 'no possible risk', 'no possible risk', 'no possible risk', 'no possible risk', 'no possible risk', 'possible heart risk', 'possible heart risk', 'no possible risk', 'possible risk', 'possible risk', 'possible heart risk', 'no possible risk', 'no possible risk', 'possible heart risk', 'possible heart risk', 'possible risk', 'no possible risk', 'mild symptoms to heart risk', 'no possible risk', 'no possible risk', 'no possible risk', 'no possible risk', 'no possible risk', 'no possible risk', 'no possible risk', 'possible risk', 'no possible risk', 'possible heart risk', 'possible heart risk', 'possible heart risk', 'no possible risk', 'no possible risk', 'no possible risk', 'possible risk', 'possible heart risk', 'possible risk', 'no possible risk', 'possible risk', 'no possible risk', 'no possible risk', 'possible risk', 'possible risk', 'no possible risk', 'no possible risk', 'no possible risk', 'possible heart risk', 'no possible risk', 'no possible risk', 'no possible risk', 'no possible risk', 'possible risk', 'no possible risk', 'no possible risk', 'possible heart risk', 'mild symptoms to heart risk', 'no possible risk', 'possible risk', 'possible heart risk', 'no possible risk', 'no possible risk', 'no possible risk', 'no possible risk', 'no possible risk', 'possible risk', 'no possible risk', 'possible heart risk', 'no possible risk', 'possible risk', 'no possible risk', 'mild symptoms to heart risk', 'mild symptoms to heart risk', 'no possible risk', 'no possible risk', 'no possible risk', 'no possible risk', 'possible risk', 'no possible risk', 'no possible risk', 'no possible risk', 'possible heart risk', 'no possible risk', 'possible risk', 'no possible risk', 'no possible risk', 'no possible risk', 'possible heart risk', 'no possible risk', 'no possible risk', 'possible risk', 'possible heart risk', 'no possible risk', 'no possible risk', 'possible heart risk', 'no possible risk', 'no possible risk', 'no possible risk', 'possible risk', 'no possible risk', 'no possible risk', 'no possible risk', 'no possible risk', 'no possible risk', 'no possible risk', 'no possible risk', 'possible heart risk', 'no possible risk', 'mild symptoms to heart risk', 'no possible risk', 'no possible risk', 'no possible risk', 'no possible risk', 'no possible risk', 'no possible risk', 'no possible risk', 'possible risk', 'no possible risk', 'no possible risk', 'possible risk', 'no possible risk', 'mild symptoms to heart risk', 'no possible risk', 'no possible risk', 'possible risk', 'no possible risk', 'possible heart risk', 'no possible risk', 'no possible risk', 'no possible risk', 'no possible risk', 'no possible risk', 'no possible risk', 'no possible risk', 'no possible risk', 'no possible risk', 'no possible risk', 'no possible risk', 'possible heart risk', 'no possible risk', 'no possible risk', 'no possible risk', 'possible risk', 'no possible risk', 'no possible risk', 'no possible risk', 'no possible risk', 'no possible risk', 'no possible risk', 'no possible risk', 'no possible risk', 'no possible risk', 'possible heart risk', 'no possible risk', 'no possible risk', 'no possible risk', 'no possible risk', 'no possible risk', 'no possible risk', 'no possible risk', 'no possible risk', 'no possible risk', 'possible risk', 'possible heart risk', 'no possible risk', 'no possible risk', 'no possible risk', 'no possible risk', 'no possible risk', 'possible heart risk', 'no possible risk', 'no possible risk', 'no possible risk', 'no possible risk', 'possible risk', 'no possible risk', 'no possible risk', 'possible heart risk', 'mild symptoms to heart risk', 'no possible risk', 'no possible risk', 'no possible risk', 'no possible risk', 'no possible risk', 'no possible risk', 'possible risk', 'no possible risk', 'no possible risk', 'no possible risk', 'no possible risk', 'no possible risk', 'possible heart risk', 'no possible risk', 'possible heart risk', 'no possible risk', 'no possible risk', 'possible risk', 'possible heart risk', 'no possible risk', 'no possible risk', 'no possible risk', 'no possible risk', 'no possible risk', 'no possible risk', 'no possible risk', 'possible risk', 'no possible risk', 'no possible risk', 'possible heart risk', 'no possible risk', 'mild symptoms to heart risk', 'no possible risk', 'no possible risk', 'possible risk', 'no possible risk', 'no possible risk', 'no possible risk', 'no possible risk', 'possible heart risk', 'no possible risk', 'possible heart risk', 'possible heart risk', 'no possible risk', 'possible heart risk', 'no possible risk', 'no possible risk', 'possible heart risk', 'no possible risk', 'no possible risk', 'no possible risk', 'no possible risk', 'no possible risk', 'no possible risk', 'no possible risk', 'no possible risk', 'no possible risk', 'possible heart risk', 'no possible risk', 'no possible risk', 'possible heart risk', 'no possible risk', 'no possible risk', 'no possible risk', 'possible risk', 'no possible risk', 'mild symptoms to heart risk', 'no possible risk', 'no possible risk', 'possible risk', 'no possible risk', 'possible risk', 'no possible risk', 'mild symptoms to heart risk', 'no possible risk', 'possible risk', 'no possible risk', 'no possible risk', 'no possible risk', 'no possible risk', 'no possible risk', 'no possible risk', 'no possible risk', 'possible heart risk', 'no possible risk', 'no possible risk', 'no possible risk', 'no possible risk', 'possible heart risk', 'no possible risk', 'no possible risk', 'no possible risk', 'no possible risk', 'no possible risk', 'no possible risk', 'no possible risk', 'no possible risk', 'possible heart risk', 'no possible risk', 'no possible risk', 'no possible risk', 'possible heart risk', 'no possible risk', 'no possible risk', 'no possible risk', 'no possible risk', 'mild symptoms to heart risk', 'possible heart risk', 'possible heart risk', 'no possible risk', 'mild symptoms to heart risk', 'no possible risk', 'mild symptoms to heart risk', 'no possible risk', 'no possible risk', 'possible heart risk', 'possible heart risk', 'possible risk', 'mild symptoms to heart risk', 'no possible risk', 'no possible risk', 'no possible risk', 'no possible risk', 'mild symptoms to heart risk', 'no possible risk', 'no possible risk', 'no possible risk', 'possible heart risk', 'possible heart risk', 'possible heart risk', 'no possible risk', 'possible heart risk', 'possible heart risk', 'no possible risk', 'possible heart risk', 'no possible risk', 'no possible risk', 'possible heart risk', 'no possible risk', 'no possible risk', 'no possible risk', 'no possible risk', 'no possible risk', 'mild symptoms to heart risk', 'no possible risk', 'no possible risk', 'possible risk', 'possible risk', 'mild symptoms to heart risk', 'no possible risk', 'no possible risk', 'mild symptoms to heart risk', 'no possible risk', 'possible heart risk', 'no possible risk', 'no possible risk', 'no possible risk', 'possible heart risk', 'possible risk', 'possible heart risk', 'possible heart risk', 'possible heart risk', 'no possible risk', 'no possible risk', 'possible risk', 'no possible risk', 'possible heart risk', 'no possible risk', 'no possible risk', 'possible risk', 'possible risk', 'no possible risk', 'no possible risk', 'no possible risk', 'mild symptoms to heart risk', 'no possible risk', 'no possible risk', 'no possible risk', 'no possible risk', 'no possible risk', 'no possible risk', 'no possible risk', 'no possible risk', 'mild symptoms to heart risk', 'no possible risk', 'possible heart risk', 'no possible risk', 'no possible risk', 'no possible risk', 'possible heart risk', 'no possible risk', 'no possible risk', 'no possible risk', 'no possible risk', 'no possible risk', 'no possible risk', 'no possible risk', 'possible heart risk', 'possible heart risk', 'possible heart risk', 'no possible risk', 'possible heart risk', 'no possible risk', 'no possible risk', 'no possible risk', 'no possible risk', 'no possible risk', 'no possible risk', 'no possible risk', 'no possible risk', 'possible risk', 'possible heart risk', 'no possible risk', 'no possible risk', 'no possible risk', 'no possible risk', 'no possible risk', 'no possible risk', 'no possible risk', 'no possible risk', 'no possible risk', 'no possible risk', 'no possible risk', 'no possible risk', 'no possible risk', 'no possible risk', 'possible heart risk', 'no possible risk', 'no possible risk', 'possible heart risk', 'no possible risk', 'possible heart risk', 'no possible risk', 'no possible risk', 'possible heart risk', 'no possible risk', 'no possible risk', 'possible heart risk', 'mild symptoms to heart risk', 'mild symptoms to heart risk', 'no possible risk', 'no possible risk', 'no possible risk', 'no possible risk', 'no possible risk', 'no possible risk', 'no possible risk', 'possible heart risk', 'no possible risk', 'no possible risk', 'possible heart risk', 'no possible risk', 'no possible risk', 'no possible risk', 'no possible risk', 'no possible risk', 'no possible risk', 'possible heart risk', 'no possible risk', 'no possible risk', 'no possible risk', 'mild symptoms to heart risk', 'possible risk', 'possible heart risk', 'no possible risk', 'possible heart risk', 'no possible risk', 'no possible risk', 'no possible risk', 'no possible risk', 'no possible risk', 'no possible risk', 'no possible risk', 'mild symptoms to heart risk', 'mild symptoms to heart risk', 'no possible risk', 'possible heart risk', 'no possible risk', 'possible risk', 'no possible risk', 'no possible risk', 'no possible risk', 'no possible risk', 'no possible risk', 'possible heart risk', 'no possible risk', 'mild symptoms to heart risk', 'possible heart risk', 'no possible risk', 'no possible risk', 'possible heart risk', 'possible risk', 'possible heart risk', 'possible risk', 'no possible risk', 'no possible risk', 'no possible risk', 'no possible risk', 'no possible risk', 'possible heart risk', 'possible risk', 'no possible risk', 'no possible risk', 'no possible risk', 'no possible risk', 'mild symptoms to heart risk', 'no possible risk', 'possible heart risk', 'no possible risk', 'mild symptoms to heart risk', 'no possible risk', 'no possible risk', 'no possible risk', 'possible risk', 'no possible risk', 'no possible risk', 'no possible risk', 'no possible risk', 'no possible risk', 'no possible risk', 'no possible risk', 'no possible risk', 'possible risk', 'no possible risk', 'no possible risk', 'mild symptoms to heart risk', 'no possible risk', 'possible heart risk', 'possible heart risk', 'possible risk', 'no possible risk', 'no possible risk', 'no possible risk', 'no possible risk', 'no possible risk', 'no possible risk', 'no possible risk', 'no possible risk', 'no possible risk', 'no possible risk', 'no possible risk', 'possible heart risk', 'no possible risk', 'possible risk', 'no possible risk', 'possible heart risk', 'no possible risk', 'no possible risk', 'mild symptoms to heart risk', 'no possible risk', 'possible heart risk', 'no possible risk', 'no possible risk', 'possible heart risk', 'mild symptoms to heart risk', 'possible risk', 'no possible risk', 'no possible risk', 'possible heart risk', 'no possible risk', 'no possible risk', 'no possible risk', 'possible risk', 'no possible risk', 'no possible risk', 'no possible risk', 'possible heart risk', 'possible risk', 'no possible risk', 'possible heart risk', 'no possible risk', 'possible risk', 'possible heart risk', 'no possible risk', 'no possible risk', 'no possible risk', 'possible heart risk', 'possible heart risk', 'no possible risk', 'possible heart risk', 'no possible risk', 'no possible risk', 'no possible risk', 'no possible risk', 'possible risk', 'no possible risk', 'no possible risk', 'no possible risk', 'no possible risk', 'no possible risk', 'no possible risk', 'possible heart risk', 'no possible risk', 'no possible risk', 'no possible risk', 'no possible risk', 'no possible risk', 'no possible risk', 'no possible risk', 'no possible risk', 'no possible risk', 'no possible risk', 'no possible risk', 'no possible risk', 'mild symptoms to heart risk', 'no possible risk', 'possible heart risk', 'possible heart risk', 'possible risk', 'no possible risk', 'no possible risk', 'no possible risk', 'mild symptoms to heart risk', 'possible risk', 'no possible risk']\n"
     ]
    }
   ],
   "source": [
    "print(output)"
   ]
  },
  {
   "cell_type": "code",
   "execution_count": 136,
   "metadata": {
    "colab": {
     "base_uri": "https://localhost:8080/",
     "height": 418
    },
    "id": "eNIem8IhMqzL",
    "outputId": "790d12d6-7881-467c-ae81-57948daa8f3e"
   },
   "outputs": [
    {
     "data": {
      "text/html": [
       "<div>\n",
       "<style scoped>\n",
       "    .dataframe tbody tr th:only-of-type {\n",
       "        vertical-align: middle;\n",
       "    }\n",
       "\n",
       "    .dataframe tbody tr th {\n",
       "        vertical-align: top;\n",
       "    }\n",
       "\n",
       "    .dataframe thead th {\n",
       "        text-align: right;\n",
       "    }\n",
       "</style>\n",
       "<table border=\"1\" class=\"dataframe\">\n",
       "  <thead>\n",
       "    <tr style=\"text-align: right;\">\n",
       "      <th></th>\n",
       "      <th>prediction</th>\n",
       "    </tr>\n",
       "  </thead>\n",
       "  <tbody>\n",
       "    <tr>\n",
       "      <th>0</th>\n",
       "      <td>possible heart risk</td>\n",
       "    </tr>\n",
       "    <tr>\n",
       "      <th>1</th>\n",
       "      <td>no possible risk</td>\n",
       "    </tr>\n",
       "    <tr>\n",
       "      <th>2</th>\n",
       "      <td>no possible risk</td>\n",
       "    </tr>\n",
       "    <tr>\n",
       "      <th>3</th>\n",
       "      <td>no possible risk</td>\n",
       "    </tr>\n",
       "    <tr>\n",
       "      <th>4</th>\n",
       "      <td>possible risk</td>\n",
       "    </tr>\n",
       "    <tr>\n",
       "      <th>...</th>\n",
       "      <td>...</td>\n",
       "    </tr>\n",
       "    <tr>\n",
       "      <th>995</th>\n",
       "      <td>no possible risk</td>\n",
       "    </tr>\n",
       "    <tr>\n",
       "      <th>996</th>\n",
       "      <td>no possible risk</td>\n",
       "    </tr>\n",
       "    <tr>\n",
       "      <th>997</th>\n",
       "      <td>mild symptoms to heart risk</td>\n",
       "    </tr>\n",
       "    <tr>\n",
       "      <th>998</th>\n",
       "      <td>possible risk</td>\n",
       "    </tr>\n",
       "    <tr>\n",
       "      <th>999</th>\n",
       "      <td>no possible risk</td>\n",
       "    </tr>\n",
       "  </tbody>\n",
       "</table>\n",
       "<p>1000 rows × 1 columns</p>\n",
       "</div>"
      ],
      "text/plain": [
       "                      prediction\n",
       "0            possible heart risk\n",
       "1               no possible risk\n",
       "2               no possible risk\n",
       "3               no possible risk\n",
       "4                  possible risk\n",
       "..                           ...\n",
       "995             no possible risk\n",
       "996             no possible risk\n",
       "997  mild symptoms to heart risk\n",
       "998                possible risk\n",
       "999             no possible risk\n",
       "\n",
       "[1000 rows x 1 columns]"
      ]
     },
     "execution_count": 136,
     "metadata": {},
     "output_type": "execute_result"
    }
   ],
   "source": [
    "df1 = DataFrame (output,columns = ['prediction'])\n",
    "df1"
   ]
  },
  {
   "cell_type": "code",
   "execution_count": 137,
   "metadata": {
    "colab": {
     "base_uri": "https://localhost:8080/",
     "height": 418
    },
    "id": "mKC-Xu33Nygq",
    "outputId": "7f1e9852-3112-4107-dea3-3cb2709acc08"
   },
   "outputs": [
    {
     "data": {
      "text/html": [
       "<div>\n",
       "<style scoped>\n",
       "    .dataframe tbody tr th:only-of-type {\n",
       "        vertical-align: middle;\n",
       "    }\n",
       "\n",
       "    .dataframe tbody tr th {\n",
       "        vertical-align: top;\n",
       "    }\n",
       "\n",
       "    .dataframe thead th {\n",
       "        text-align: right;\n",
       "    }\n",
       "</style>\n",
       "<table border=\"1\" class=\"dataframe\">\n",
       "  <thead>\n",
       "    <tr style=\"text-align: right;\">\n",
       "      <th></th>\n",
       "      <th>temp</th>\n",
       "      <th>oxygen</th>\n",
       "      <th>heart beat</th>\n",
       "      <th>prediction</th>\n",
       "    </tr>\n",
       "  </thead>\n",
       "  <tbody>\n",
       "    <tr>\n",
       "      <th>0</th>\n",
       "      <td>102.0</td>\n",
       "      <td>89.0</td>\n",
       "      <td>81.0</td>\n",
       "      <td>possible heart risk</td>\n",
       "    </tr>\n",
       "    <tr>\n",
       "      <th>1</th>\n",
       "      <td>99.0</td>\n",
       "      <td>95.0</td>\n",
       "      <td>69.0</td>\n",
       "      <td>no possible risk</td>\n",
       "    </tr>\n",
       "    <tr>\n",
       "      <th>2</th>\n",
       "      <td>100.0</td>\n",
       "      <td>99.0</td>\n",
       "      <td>101.0</td>\n",
       "      <td>no possible risk</td>\n",
       "    </tr>\n",
       "    <tr>\n",
       "      <th>3</th>\n",
       "      <td>102.0</td>\n",
       "      <td>98.0</td>\n",
       "      <td>70.0</td>\n",
       "      <td>no possible risk</td>\n",
       "    </tr>\n",
       "    <tr>\n",
       "      <th>4</th>\n",
       "      <td>98.0</td>\n",
       "      <td>89.0</td>\n",
       "      <td>108.0</td>\n",
       "      <td>possible risk</td>\n",
       "    </tr>\n",
       "    <tr>\n",
       "      <th>...</th>\n",
       "      <td>...</td>\n",
       "      <td>...</td>\n",
       "      <td>...</td>\n",
       "      <td>...</td>\n",
       "    </tr>\n",
       "    <tr>\n",
       "      <th>995</th>\n",
       "      <td>96.0</td>\n",
       "      <td>97.0</td>\n",
       "      <td>111.0</td>\n",
       "      <td>no possible risk</td>\n",
       "    </tr>\n",
       "    <tr>\n",
       "      <th>996</th>\n",
       "      <td>105.0</td>\n",
       "      <td>91.0</td>\n",
       "      <td>99.0</td>\n",
       "      <td>no possible risk</td>\n",
       "    </tr>\n",
       "    <tr>\n",
       "      <th>997</th>\n",
       "      <td>99.0</td>\n",
       "      <td>88.0</td>\n",
       "      <td>75.0</td>\n",
       "      <td>mild symptoms to heart risk</td>\n",
       "    </tr>\n",
       "    <tr>\n",
       "      <th>998</th>\n",
       "      <td>96.0</td>\n",
       "      <td>89.0</td>\n",
       "      <td>108.0</td>\n",
       "      <td>possible risk</td>\n",
       "    </tr>\n",
       "    <tr>\n",
       "      <th>999</th>\n",
       "      <td>99.0</td>\n",
       "      <td>94.0</td>\n",
       "      <td>83.0</td>\n",
       "      <td>no possible risk</td>\n",
       "    </tr>\n",
       "  </tbody>\n",
       "</table>\n",
       "<p>1000 rows × 4 columns</p>\n",
       "</div>"
      ],
      "text/plain": [
       "      temp  oxygen  heart beat                   prediction\n",
       "0    102.0    89.0        81.0          possible heart risk\n",
       "1     99.0    95.0        69.0             no possible risk\n",
       "2    100.0    99.0       101.0             no possible risk\n",
       "3    102.0    98.0        70.0             no possible risk\n",
       "4     98.0    89.0       108.0                possible risk\n",
       "..     ...     ...         ...                          ...\n",
       "995   96.0    97.0       111.0             no possible risk\n",
       "996  105.0    91.0        99.0             no possible risk\n",
       "997   99.0    88.0        75.0  mild symptoms to heart risk\n",
       "998   96.0    89.0       108.0                possible risk\n",
       "999   99.0    94.0        83.0             no possible risk\n",
       "\n",
       "[1000 rows x 4 columns]"
      ]
     },
     "execution_count": 137,
     "metadata": {},
     "output_type": "execute_result"
    }
   ],
   "source": [
    "import pandas as pd\n",
    "result = pd.concat([df, df1], axis=1)\n",
    "result"
   ]
  },
  {
   "cell_type": "code",
   "execution_count": 138,
   "metadata": {
    "id": "wAaJf9OkRzUZ"
   },
   "outputs": [],
   "source": [
    "result.to_csv(\"result1.csv\")\n"
   ]
  },
  {
   "cell_type": "markdown",
   "metadata": {
    "id": "2-j1ErWMtGW3"
   },
   "source": [
    "#MACHINE LEARNING MODEL "
   ]
  },
  {
   "cell_type": "code",
   "execution_count": 139,
   "metadata": {
    "id": "cfokxAjGtFje"
   },
   "outputs": [],
   "source": [
    "import pandas as pd\n",
    "from sklearn.tree import DecisionTreeClassifier # Import Decision Tree Classifier\n",
    "from sklearn.model_selection import train_test_split # Import train_test_split function\n",
    "from sklearn import metrics #Import scikit-learn metrics module for accuracy calculation"
   ]
  },
  {
   "cell_type": "code",
   "execution_count": 140,
   "metadata": {
    "colab": {
     "base_uri": "https://localhost:8080/",
     "height": 418
    },
    "id": "tco5KiQSZutE",
    "outputId": "00fd6071-ee3a-4285-e41b-e06b42dba84c"
   },
   "outputs": [],
   "source": [
    "df=pd.read_csv(\"result1.csv\") "
   ]
  },
  {
   "cell_type": "code",
   "execution_count": 141,
   "metadata": {
    "id": "ok0t4pu_bLG_"
   },
   "outputs": [],
   "source": [
    "y=df[\"prediction\"]"
   ]
  },
  {
   "cell_type": "code",
   "execution_count": 142,
   "metadata": {
    "id": "otO4LkxSbdrO"
   },
   "outputs": [],
   "source": [
    "X=df.drop(\"prediction\",axis=1)"
   ]
  },
  {
   "cell_type": "code",
   "execution_count": 143,
   "metadata": {
    "id": "ex-kPtukcofJ"
   },
   "outputs": [],
   "source": [
    "X=X.drop(\"Unnamed: 0\",axis=1)"
   ]
  },
  {
   "cell_type": "code",
   "execution_count": 144,
   "metadata": {
    "colab": {
     "base_uri": "https://localhost:8080/",
     "height": 203
    },
    "id": "TC3M5lIJcFTo",
    "outputId": "1981615c-0f6f-4f83-c65d-4d426481ebc5"
   },
   "outputs": [
    {
     "data": {
      "text/html": [
       "<div>\n",
       "<style scoped>\n",
       "    .dataframe tbody tr th:only-of-type {\n",
       "        vertical-align: middle;\n",
       "    }\n",
       "\n",
       "    .dataframe tbody tr th {\n",
       "        vertical-align: top;\n",
       "    }\n",
       "\n",
       "    .dataframe thead th {\n",
       "        text-align: right;\n",
       "    }\n",
       "</style>\n",
       "<table border=\"1\" class=\"dataframe\">\n",
       "  <thead>\n",
       "    <tr style=\"text-align: right;\">\n",
       "      <th></th>\n",
       "      <th>temp</th>\n",
       "      <th>oxygen</th>\n",
       "      <th>heart beat</th>\n",
       "    </tr>\n",
       "  </thead>\n",
       "  <tbody>\n",
       "    <tr>\n",
       "      <th>0</th>\n",
       "      <td>102.0</td>\n",
       "      <td>89.0</td>\n",
       "      <td>81.0</td>\n",
       "    </tr>\n",
       "    <tr>\n",
       "      <th>1</th>\n",
       "      <td>99.0</td>\n",
       "      <td>95.0</td>\n",
       "      <td>69.0</td>\n",
       "    </tr>\n",
       "    <tr>\n",
       "      <th>2</th>\n",
       "      <td>100.0</td>\n",
       "      <td>99.0</td>\n",
       "      <td>101.0</td>\n",
       "    </tr>\n",
       "    <tr>\n",
       "      <th>3</th>\n",
       "      <td>102.0</td>\n",
       "      <td>98.0</td>\n",
       "      <td>70.0</td>\n",
       "    </tr>\n",
       "    <tr>\n",
       "      <th>4</th>\n",
       "      <td>98.0</td>\n",
       "      <td>89.0</td>\n",
       "      <td>108.0</td>\n",
       "    </tr>\n",
       "  </tbody>\n",
       "</table>\n",
       "</div>"
      ],
      "text/plain": [
       "    temp  oxygen  heart beat\n",
       "0  102.0    89.0        81.0\n",
       "1   99.0    95.0        69.0\n",
       "2  100.0    99.0       101.0\n",
       "3  102.0    98.0        70.0\n",
       "4   98.0    89.0       108.0"
      ]
     },
     "execution_count": 144,
     "metadata": {},
     "output_type": "execute_result"
    }
   ],
   "source": [
    "X.head()"
   ]
  },
  {
   "cell_type": "code",
   "execution_count": 145,
   "metadata": {
    "id": "d2A9u5cfbr6q"
   },
   "outputs": [],
   "source": [
    "from sklearn.model_selection import train_test_split"
   ]
  },
  {
   "cell_type": "code",
   "execution_count": 146,
   "metadata": {
    "id": "frrhImwcbvyz"
   },
   "outputs": [],
   "source": [
    "X_train,X_test,y_train,y_test=train_test_split(X,y,test_size=0.3,random_state=42,stratify=y)"
   ]
  },
  {
   "cell_type": "code",
   "execution_count": 147,
   "metadata": {
    "id": "vPVTjvxQdOfO"
   },
   "outputs": [],
   "source": [
    "from sklearn.preprocessing import MinMaxScaler"
   ]
  },
  {
   "cell_type": "code",
   "execution_count": 148,
   "metadata": {
    "id": "P_9Ep2eYdPjW"
   },
   "outputs": [],
   "source": [
    "scaler=MinMaxScaler()\n",
    "X_train=scaler.fit_transform(X_train)\n",
    "X_test=scaler.transform(X_test)"
   ]
  },
  {
   "cell_type": "markdown",
   "metadata": {
    "id": "PQ7zFokDderb"
   },
   "source": [
    "#KNN\n"
   ]
  },
  {
   "cell_type": "code",
   "execution_count": 149,
   "metadata": {
    "id": "y7ZuIbBQdeMO"
   },
   "outputs": [],
   "source": [
    "from sklearn.neighbors import KNeighborsClassifier"
   ]
  },
  {
   "cell_type": "code",
   "execution_count": 150,
   "metadata": {
    "id": "_Lf8AnZbdlzG"
   },
   "outputs": [],
   "source": [
    "model=KNeighborsClassifier(n_neighbors=2)"
   ]
  },
  {
   "cell_type": "code",
   "execution_count": 151,
   "metadata": {
    "colab": {
     "base_uri": "https://localhost:8080/"
    },
    "id": "7A7jSdKNdpBl",
    "outputId": "bc2c830a-a380-44c2-fd1e-2a43f0e8427d"
   },
   "outputs": [
    {
     "data": {
      "text/plain": [
       "KNeighborsClassifier(n_neighbors=2)"
      ]
     },
     "execution_count": 151,
     "metadata": {},
     "output_type": "execute_result"
    }
   ],
   "source": [
    "model.fit(X_train,y_train)"
   ]
  },
  {
   "cell_type": "code",
   "execution_count": 152,
   "metadata": {
    "colab": {
     "base_uri": "https://localhost:8080/"
    },
    "id": "rEE3tOnLdseN",
    "outputId": "28088ca7-1e9c-4ea1-f1c0-2b2baf4004b3"
   },
   "outputs": [
    {
     "data": {
      "text/plain": [
       "0.9433333333333334"
      ]
     },
     "execution_count": 152,
     "metadata": {},
     "output_type": "execute_result"
    }
   ],
   "source": [
    "model.score(X_test,y_test)"
   ]
  },
  {
   "cell_type": "markdown",
   "metadata": {
    "id": "AXxiShxTeFpa"
   },
   "source": [
    "#KNN prediction"
   ]
  },
  {
   "cell_type": "code",
   "execution_count": 153,
   "metadata": {},
   "outputs": [],
   "source": [
    "C = 34"
   ]
  },
  {
   "cell_type": "code",
   "execution_count": 154,
   "metadata": {},
   "outputs": [],
   "source": [
    "temp = 9/5 + (C + 32)"
   ]
  },
  {
   "cell_type": "code",
   "execution_count": 155,
   "metadata": {
    "id": "BeD-YY43eEP_"
   },
   "outputs": [
    {
     "data": {
      "text/plain": [
       "array(['no possible risk'], dtype=object)"
      ]
     },
     "execution_count": 155,
     "metadata": {},
     "output_type": "execute_result"
    }
   ],
   "source": [
    "data=pd.DataFrame({0:[92],1:[95],2:[temp]})\n",
    "data=scaler.transform(data)\n",
    "model.predict(data)"
   ]
  },
  {
   "cell_type": "code",
   "execution_count": null,
   "metadata": {},
   "outputs": [],
   "source": []
  }
 ],
 "metadata": {
  "colab": {
   "collapsed_sections": [],
   "name": "mini_project_FINAL.ipynb",
   "provenance": [],
   "toc_visible": true
  },
  "kernelspec": {
   "display_name": "Python 3 (ipykernel)",
   "language": "python",
   "name": "python3"
  },
  "language_info": {
   "codemirror_mode": {
    "name": "ipython",
    "version": 3
   },
   "file_extension": ".py",
   "mimetype": "text/x-python",
   "name": "python",
   "nbconvert_exporter": "python",
   "pygments_lexer": "ipython3",
   "version": "3.9.7"
  }
 },
 "nbformat": 4,
 "nbformat_minor": 1
}
